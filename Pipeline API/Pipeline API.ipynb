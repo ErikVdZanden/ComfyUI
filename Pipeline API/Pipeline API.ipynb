{
 "cells": [
  {
   "cell_type": "code",
   "execution_count": null,
   "id": "8aff9204",
   "metadata": {},
   "outputs": [
    {
     "name": "stdout",
     "output_type": "stream",
     "text": [
      " * Serving Flask app '__main__'\n",
      " * Debug mode: on\n"
     ]
    },
    {
     "name": "stderr",
     "output_type": "stream",
     "text": [
      "An attempt was made to access a socket in a way forbidden by its access permissions\n"
     ]
    },
    {
     "ename": "SystemExit",
     "evalue": "1",
     "output_type": "error",
     "traceback": [
      "An exception has occurred, use %tb to see the full traceback.\n",
      "\u001b[31mSystemExit\u001b[39m\u001b[31m:\u001b[39m 1\n"
     ]
    }
   ],
   "source": [
    "from flask import Flask, request, jsonify\n",
    "import requests\n",
    "import json\n",
    "import uuid\n",
    "import os\n",
    "\n",
    "COMFY_URL = \"http://127.0.0.1:8188\"\n",
    "WORKFLOW_FILE = \"pipeline_31_05_2025_Erik.json\"  # Path to your saved workflow\n",
    "\n",
    "app = Flask(__name__)\n",
    "\n",
    "@app.route('/generate', methods=['POST'])\n",
    "def generate():\n",
    "    try:\n",
    "        # Load base workflow from file\n",
    "        with open(WORKFLOW_FILE, \"r\") as f:\n",
    "            workflow = json.load(f)\n",
    "\n",
    "        # Optional: Update workflow inputs with request data\n",
    "        request_data = request.json or {}\n",
    "\n",
    "        # Example: override prompt/seed\n",
    "        for node in workflow.get(\"prompt\", {}).values():\n",
    "            if node.get(\"class_type\") == \"KSampler\":\n",
    "                node[\"inputs\"][\"seed\"] = request_data.get(\"seed\", node[\"inputs\"].get(\"seed\", 1234))\n",
    "            if \"positive\" in node[\"inputs\"]:\n",
    "                node[\"inputs\"][\"positive\"] = request_data.get(\"positive\", node[\"inputs\"][\"positive\"])\n",
    "            if \"negative\" in node[\"inputs\"]:\n",
    "                node[\"inputs\"][\"negative\"] = request_data.get(\"negative\", node[\"inputs\"][\"negative\"])\n",
    "\n",
    "        # Send to ComfyUI\n",
    "        response = requests.post(f\"{COMFY_URL}/prompt\", json=workflow)\n",
    "        if response.status_code != 200:\n",
    "            return jsonify({\"error\": \"Failed to send to ComfyUI\", \"details\": response.text}), 500\n",
    "\n",
    "        prompt_response = response.json()\n",
    "\n",
    "        # Get output filename(s)\n",
    "        output_images = []\n",
    "        for node_id, outputs in prompt_response.get(\"outputs\", {}).items():\n",
    "            for image in outputs.get(\"images\", []):\n",
    "                image_path = image.get(\"filename\", \"unknown\")\n",
    "                output_images.append(image_path)\n",
    "\n",
    "        return jsonify({\"status\": \"success\", \"images\": output_images})\n",
    "\n",
    "    except Exception as e:\n",
    "        return jsonify({\"error\": str(e)}), 500\n",
    "\n",
    "if __name__ == \"__main__\":\n",
    "    app.run(port=5001, debug=True)"
   ]
  }
 ],
 "metadata": {
  "kernelspec": {
   "display_name": "penv",
   "language": "python",
   "name": "python3"
  },
  "language_info": {
   "codemirror_mode": {
    "name": "ipython",
    "version": 3
   },
   "file_extension": ".py",
   "mimetype": "text/x-python",
   "name": "python",
   "nbconvert_exporter": "python",
   "pygments_lexer": "ipython3",
   "version": "3.11.7"
  }
 },
 "nbformat": 4,
 "nbformat_minor": 5
}
